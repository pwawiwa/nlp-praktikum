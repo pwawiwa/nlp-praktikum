{
  "nbformat": 4,
  "nbformat_minor": 0,
  "metadata": {
    "colab": {
      "provenance": []
    },
    "kernelspec": {
      "name": "python3",
      "display_name": "Python 3"
    },
    "language_info": {
      "name": "python"
    }
  },
  "cells": [
    {
      "cell_type": "markdown",
      "source": [
        "Muhammad Ihsan Prawira Hutomo\n",
        "2211110022"
      ],
      "metadata": {
        "id": "AUsxQWnw5rZ5"
      }
    },
    {
      "cell_type": "markdown",
      "source": [
        "### Latihan"
      ],
      "metadata": {
        "id": "Jau4AAabj0_F"
      }
    },
    {
      "cell_type": "code",
      "source": [
        "import pandas as pd\n",
        "\n",
        "df = pd.read_csv('pantun.csv')"
      ],
      "metadata": {
        "id": "K2TcnACljwys"
      },
      "execution_count": 35,
      "outputs": []
    },
    {
      "cell_type": "code",
      "source": [
        "df.head()"
      ],
      "metadata": {
        "colab": {
          "base_uri": "https://localhost:8080/",
          "height": 206
        },
        "id": "VQaWGnlVk5-r",
        "outputId": "67a119c8-5717-45e9-b18c-32fb0b03194f"
      },
      "execution_count": 36,
      "outputs": [
        {
          "output_type": "execute_result",
          "data": {
            "text/plain": [
              "                                                teks                  tipe\n",
              "0  Ada motor ada sepeda \\n Semuanya beroda dua \\n...  Pantun Adat dan Alam\n",
              "1  Ada pisang ada semangka \\n Jika dimakan manis ...  Pantun Adat dan Alam\n",
              "2  Ada rusa ada buaya \\n Sungguh hitam warna mata...  Pantun Adat dan Alam\n",
              "3  Alat timbang pucuknya patah \\n Beli baru henda...  Pantun Adat dan Alam\n",
              "4  Anak cina makan petai \\n Kakinya terikat ranta...  Pantun Adat dan Alam"
            ],
            "text/html": [
              "\n",
              "  <div id=\"df-e3761033-7f05-468b-9ee0-0d50723ad49f\" class=\"colab-df-container\">\n",
              "    <div>\n",
              "<style scoped>\n",
              "    .dataframe tbody tr th:only-of-type {\n",
              "        vertical-align: middle;\n",
              "    }\n",
              "\n",
              "    .dataframe tbody tr th {\n",
              "        vertical-align: top;\n",
              "    }\n",
              "\n",
              "    .dataframe thead th {\n",
              "        text-align: right;\n",
              "    }\n",
              "</style>\n",
              "<table border=\"1\" class=\"dataframe\">\n",
              "  <thead>\n",
              "    <tr style=\"text-align: right;\">\n",
              "      <th></th>\n",
              "      <th>teks</th>\n",
              "      <th>tipe</th>\n",
              "    </tr>\n",
              "  </thead>\n",
              "  <tbody>\n",
              "    <tr>\n",
              "      <th>0</th>\n",
              "      <td>Ada motor ada sepeda \\n Semuanya beroda dua \\n...</td>\n",
              "      <td>Pantun Adat dan Alam</td>\n",
              "    </tr>\n",
              "    <tr>\n",
              "      <th>1</th>\n",
              "      <td>Ada pisang ada semangka \\n Jika dimakan manis ...</td>\n",
              "      <td>Pantun Adat dan Alam</td>\n",
              "    </tr>\n",
              "    <tr>\n",
              "      <th>2</th>\n",
              "      <td>Ada rusa ada buaya \\n Sungguh hitam warna mata...</td>\n",
              "      <td>Pantun Adat dan Alam</td>\n",
              "    </tr>\n",
              "    <tr>\n",
              "      <th>3</th>\n",
              "      <td>Alat timbang pucuknya patah \\n Beli baru henda...</td>\n",
              "      <td>Pantun Adat dan Alam</td>\n",
              "    </tr>\n",
              "    <tr>\n",
              "      <th>4</th>\n",
              "      <td>Anak cina makan petai \\n Kakinya terikat ranta...</td>\n",
              "      <td>Pantun Adat dan Alam</td>\n",
              "    </tr>\n",
              "  </tbody>\n",
              "</table>\n",
              "</div>\n",
              "    <div class=\"colab-df-buttons\">\n",
              "\n",
              "  <div class=\"colab-df-container\">\n",
              "    <button class=\"colab-df-convert\" onclick=\"convertToInteractive('df-e3761033-7f05-468b-9ee0-0d50723ad49f')\"\n",
              "            title=\"Convert this dataframe to an interactive table.\"\n",
              "            style=\"display:none;\">\n",
              "\n",
              "  <svg xmlns=\"http://www.w3.org/2000/svg\" height=\"24px\" viewBox=\"0 -960 960 960\">\n",
              "    <path d=\"M120-120v-720h720v720H120Zm60-500h600v-160H180v160Zm220 220h160v-160H400v160Zm0 220h160v-160H400v160ZM180-400h160v-160H180v160Zm440 0h160v-160H620v160ZM180-180h160v-160H180v160Zm440 0h160v-160H620v160Z\"/>\n",
              "  </svg>\n",
              "    </button>\n",
              "\n",
              "  <style>\n",
              "    .colab-df-container {\n",
              "      display:flex;\n",
              "      gap: 12px;\n",
              "    }\n",
              "\n",
              "    .colab-df-convert {\n",
              "      background-color: #E8F0FE;\n",
              "      border: none;\n",
              "      border-radius: 50%;\n",
              "      cursor: pointer;\n",
              "      display: none;\n",
              "      fill: #1967D2;\n",
              "      height: 32px;\n",
              "      padding: 0 0 0 0;\n",
              "      width: 32px;\n",
              "    }\n",
              "\n",
              "    .colab-df-convert:hover {\n",
              "      background-color: #E2EBFA;\n",
              "      box-shadow: 0px 1px 2px rgba(60, 64, 67, 0.3), 0px 1px 3px 1px rgba(60, 64, 67, 0.15);\n",
              "      fill: #174EA6;\n",
              "    }\n",
              "\n",
              "    .colab-df-buttons div {\n",
              "      margin-bottom: 4px;\n",
              "    }\n",
              "\n",
              "    [theme=dark] .colab-df-convert {\n",
              "      background-color: #3B4455;\n",
              "      fill: #D2E3FC;\n",
              "    }\n",
              "\n",
              "    [theme=dark] .colab-df-convert:hover {\n",
              "      background-color: #434B5C;\n",
              "      box-shadow: 0px 1px 3px 1px rgba(0, 0, 0, 0.15);\n",
              "      filter: drop-shadow(0px 1px 2px rgba(0, 0, 0, 0.3));\n",
              "      fill: #FFFFFF;\n",
              "    }\n",
              "  </style>\n",
              "\n",
              "    <script>\n",
              "      const buttonEl =\n",
              "        document.querySelector('#df-e3761033-7f05-468b-9ee0-0d50723ad49f button.colab-df-convert');\n",
              "      buttonEl.style.display =\n",
              "        google.colab.kernel.accessAllowed ? 'block' : 'none';\n",
              "\n",
              "      async function convertToInteractive(key) {\n",
              "        const element = document.querySelector('#df-e3761033-7f05-468b-9ee0-0d50723ad49f');\n",
              "        const dataTable =\n",
              "          await google.colab.kernel.invokeFunction('convertToInteractive',\n",
              "                                                    [key], {});\n",
              "        if (!dataTable) return;\n",
              "\n",
              "        const docLinkHtml = 'Like what you see? Visit the ' +\n",
              "          '<a target=\"_blank\" href=https://colab.research.google.com/notebooks/data_table.ipynb>data table notebook</a>'\n",
              "          + ' to learn more about interactive tables.';\n",
              "        element.innerHTML = '';\n",
              "        dataTable['output_type'] = 'display_data';\n",
              "        await google.colab.output.renderOutput(dataTable, element);\n",
              "        const docLink = document.createElement('div');\n",
              "        docLink.innerHTML = docLinkHtml;\n",
              "        element.appendChild(docLink);\n",
              "      }\n",
              "    </script>\n",
              "  </div>\n",
              "\n",
              "\n",
              "<div id=\"df-74bc7365-5405-4c99-97d5-d2bcdacf7b8e\">\n",
              "  <button class=\"colab-df-quickchart\" onclick=\"quickchart('df-74bc7365-5405-4c99-97d5-d2bcdacf7b8e')\"\n",
              "            title=\"Suggest charts\"\n",
              "            style=\"display:none;\">\n",
              "\n",
              "<svg xmlns=\"http://www.w3.org/2000/svg\" height=\"24px\"viewBox=\"0 0 24 24\"\n",
              "     width=\"24px\">\n",
              "    <g>\n",
              "        <path d=\"M19 3H5c-1.1 0-2 .9-2 2v14c0 1.1.9 2 2 2h14c1.1 0 2-.9 2-2V5c0-1.1-.9-2-2-2zM9 17H7v-7h2v7zm4 0h-2V7h2v10zm4 0h-2v-4h2v4z\"/>\n",
              "    </g>\n",
              "</svg>\n",
              "  </button>\n",
              "\n",
              "<style>\n",
              "  .colab-df-quickchart {\n",
              "      --bg-color: #E8F0FE;\n",
              "      --fill-color: #1967D2;\n",
              "      --hover-bg-color: #E2EBFA;\n",
              "      --hover-fill-color: #174EA6;\n",
              "      --disabled-fill-color: #AAA;\n",
              "      --disabled-bg-color: #DDD;\n",
              "  }\n",
              "\n",
              "  [theme=dark] .colab-df-quickchart {\n",
              "      --bg-color: #3B4455;\n",
              "      --fill-color: #D2E3FC;\n",
              "      --hover-bg-color: #434B5C;\n",
              "      --hover-fill-color: #FFFFFF;\n",
              "      --disabled-bg-color: #3B4455;\n",
              "      --disabled-fill-color: #666;\n",
              "  }\n",
              "\n",
              "  .colab-df-quickchart {\n",
              "    background-color: var(--bg-color);\n",
              "    border: none;\n",
              "    border-radius: 50%;\n",
              "    cursor: pointer;\n",
              "    display: none;\n",
              "    fill: var(--fill-color);\n",
              "    height: 32px;\n",
              "    padding: 0;\n",
              "    width: 32px;\n",
              "  }\n",
              "\n",
              "  .colab-df-quickchart:hover {\n",
              "    background-color: var(--hover-bg-color);\n",
              "    box-shadow: 0 1px 2px rgba(60, 64, 67, 0.3), 0 1px 3px 1px rgba(60, 64, 67, 0.15);\n",
              "    fill: var(--button-hover-fill-color);\n",
              "  }\n",
              "\n",
              "  .colab-df-quickchart-complete:disabled,\n",
              "  .colab-df-quickchart-complete:disabled:hover {\n",
              "    background-color: var(--disabled-bg-color);\n",
              "    fill: var(--disabled-fill-color);\n",
              "    box-shadow: none;\n",
              "  }\n",
              "\n",
              "  .colab-df-spinner {\n",
              "    border: 2px solid var(--fill-color);\n",
              "    border-color: transparent;\n",
              "    border-bottom-color: var(--fill-color);\n",
              "    animation:\n",
              "      spin 1s steps(1) infinite;\n",
              "  }\n",
              "\n",
              "  @keyframes spin {\n",
              "    0% {\n",
              "      border-color: transparent;\n",
              "      border-bottom-color: var(--fill-color);\n",
              "      border-left-color: var(--fill-color);\n",
              "    }\n",
              "    20% {\n",
              "      border-color: transparent;\n",
              "      border-left-color: var(--fill-color);\n",
              "      border-top-color: var(--fill-color);\n",
              "    }\n",
              "    30% {\n",
              "      border-color: transparent;\n",
              "      border-left-color: var(--fill-color);\n",
              "      border-top-color: var(--fill-color);\n",
              "      border-right-color: var(--fill-color);\n",
              "    }\n",
              "    40% {\n",
              "      border-color: transparent;\n",
              "      border-right-color: var(--fill-color);\n",
              "      border-top-color: var(--fill-color);\n",
              "    }\n",
              "    60% {\n",
              "      border-color: transparent;\n",
              "      border-right-color: var(--fill-color);\n",
              "    }\n",
              "    80% {\n",
              "      border-color: transparent;\n",
              "      border-right-color: var(--fill-color);\n",
              "      border-bottom-color: var(--fill-color);\n",
              "    }\n",
              "    90% {\n",
              "      border-color: transparent;\n",
              "      border-bottom-color: var(--fill-color);\n",
              "    }\n",
              "  }\n",
              "</style>\n",
              "\n",
              "  <script>\n",
              "    async function quickchart(key) {\n",
              "      const quickchartButtonEl =\n",
              "        document.querySelector('#' + key + ' button');\n",
              "      quickchartButtonEl.disabled = true;  // To prevent multiple clicks.\n",
              "      quickchartButtonEl.classList.add('colab-df-spinner');\n",
              "      try {\n",
              "        const charts = await google.colab.kernel.invokeFunction(\n",
              "            'suggestCharts', [key], {});\n",
              "      } catch (error) {\n",
              "        console.error('Error during call to suggestCharts:', error);\n",
              "      }\n",
              "      quickchartButtonEl.classList.remove('colab-df-spinner');\n",
              "      quickchartButtonEl.classList.add('colab-df-quickchart-complete');\n",
              "    }\n",
              "    (() => {\n",
              "      let quickchartButtonEl =\n",
              "        document.querySelector('#df-74bc7365-5405-4c99-97d5-d2bcdacf7b8e button');\n",
              "      quickchartButtonEl.style.display =\n",
              "        google.colab.kernel.accessAllowed ? 'block' : 'none';\n",
              "    })();\n",
              "  </script>\n",
              "</div>\n",
              "    </div>\n",
              "  </div>\n"
            ]
          },
          "metadata": {},
          "execution_count": 36
        }
      ]
    },
    {
      "cell_type": "code",
      "source": [
        "def clear(text):\n",
        "  import re\n",
        "  teks_bersih = re.sub(r'\\\\n', '.', text)\n",
        "  return teks_bersih"
      ],
      "metadata": {
        "id": "FaQ9S4IUkdp8"
      },
      "execution_count": 37,
      "outputs": []
    },
    {
      "cell_type": "code",
      "source": [
        "teks = df['teks'].values.tolist()"
      ],
      "metadata": {
        "id": "REM3zlQUlABb"
      },
      "execution_count": 38,
      "outputs": []
    },
    {
      "cell_type": "code",
      "source": [
        "teks = ''.join(teks)"
      ],
      "metadata": {
        "id": "8fCs3EFKlR70"
      },
      "execution_count": 39,
      "outputs": []
    },
    {
      "cell_type": "code",
      "source": [
        "teks = clear(teks)"
      ],
      "metadata": {
        "id": "lpzJS_T_kz8b"
      },
      "execution_count": 40,
      "outputs": []
    },
    {
      "cell_type": "code",
      "source": [],
      "metadata": {
        "id": "1J83Ybkz3KV3"
      },
      "execution_count": 40,
      "outputs": []
    },
    {
      "cell_type": "code",
      "source": [
        "import nltk\n",
        "from nltk.tokenize import word_tokenize, sent_tokenize\n",
        "nltk.download('punkt')\n",
        "\n",
        "teks = sent_tokenize(teks)"
      ],
      "metadata": {
        "colab": {
          "base_uri": "https://localhost:8080/"
        },
        "id": "61_aZEnYk8Fz",
        "outputId": "c9bbf34d-2538-4c4b-d979-bb407de1521b"
      },
      "execution_count": 41,
      "outputs": [
        {
          "output_type": "stream",
          "name": "stderr",
          "text": [
            "[nltk_data] Downloading package punkt to /root/nltk_data...\n",
            "[nltk_data]   Package punkt is already up-to-date!\n"
          ]
        }
      ]
    },
    {
      "cell_type": "code",
      "source": [
        "teks = teks[:10]"
      ],
      "metadata": {
        "id": "mW4Neyc6l7sc"
      },
      "execution_count": 42,
      "outputs": []
    },
    {
      "cell_type": "code",
      "source": [
        "teks"
      ],
      "metadata": {
        "id": "8-D7w3Ez0GMf",
        "outputId": "f24f59a5-e45a-4d1c-bac9-661b11e6c5f4",
        "colab": {
          "base_uri": "https://localhost:8080/"
        }
      },
      "execution_count": 43,
      "outputs": [
        {
          "output_type": "execute_result",
          "data": {
            "text/plain": [
              "['Ada motor ada sepeda .',\n",
              " 'Semuanya beroda dua .',\n",
              " 'Indonesia kaya budaya .',\n",
              " 'Sepatutnya kita menjaganyaAda pisang ada semangka .',\n",
              " 'Jika dimakan manis rasanya .',\n",
              " 'Indonesia ragam budaya .',\n",
              " 'Tugas kita tuk menjaganyaAda rusa ada buaya .',\n",
              " 'Sungguh hitam warna matanya .',\n",
              " 'Ada adat seribu bahasa .',\n",
              " 'Kita wajib menghormatinyaAlat timbang pucuknya patah .']"
            ]
          },
          "metadata": {},
          "execution_count": 43
        }
      ]
    },
    {
      "cell_type": "code",
      "source": [
        "import string\n",
        "from nltk.tokenize import word_tokenize\n",
        "\n",
        "# Function to remove punctuation from a given sentence\n",
        "def remove_punctuation(sentence):\n",
        "    return sentence.translate(str.maketrans(\"\", \"\", string.punctuation))\n",
        "\n",
        "# Tokenize and remove punctuation for each sentence\n",
        "tokenized_text = [word_tokenize(remove_punctuation(sentence)) for sentence in teks]\n",
        "\n",
        "# Print the tokenized sentences without punctuation\n",
        "for tokens in tokenized_sentences:\n",
        "    print(tokens)\n"
      ],
      "metadata": {
        "colab": {
          "base_uri": "https://localhost:8080/"
        },
        "id": "O8rI8csz3kMs",
        "outputId": "1fb1eb39-bad4-4e84-fe21-da8c784ed064"
      },
      "execution_count": 44,
      "outputs": [
        {
          "output_type": "stream",
          "name": "stdout",
          "text": [
            "['Ada', 'motor', 'ada', 'sepeda']\n",
            "['Semuanya', 'beroda', 'dua']\n",
            "['Indonesia', 'kaya', 'budaya']\n",
            "['Sepatutnya', 'kita', 'menjaganyaAda', 'pisang', 'ada', 'semangka']\n",
            "['Jika', 'dimakan', 'manis', 'rasanya']\n",
            "['Indonesia', 'ragam', 'budaya']\n",
            "['Tugas', 'kita', 'tuk', 'menjaganyaAda', 'rusa', 'ada', 'buaya']\n",
            "['Sungguh', 'hitam', 'warna', 'matanya']\n",
            "['Ada', 'adat', 'seribu', 'bahasa']\n",
            "['Kita', 'wajib', 'menghormatinyaAlat', 'timbang', 'pucuknya', 'patah']\n"
          ]
        }
      ]
    },
    {
      "cell_type": "markdown",
      "source": [
        "### Ubah variabel teks(diatas), menjadi vektor word2vec dan fastext, serta tampilkan 4 kata yang similar"
      ],
      "metadata": {
        "id": "dlGooj2Azvw4"
      }
    },
    {
      "cell_type": "code",
      "source": [
        "tokenized_text"
      ],
      "metadata": {
        "colab": {
          "base_uri": "https://localhost:8080/"
        },
        "id": "xvjm3PSe27rc",
        "outputId": "2963f359-9fb7-4be5-e204-114a703f3e69"
      },
      "execution_count": 45,
      "outputs": [
        {
          "output_type": "execute_result",
          "data": {
            "text/plain": [
              "[['Ada', 'motor', 'ada', 'sepeda'],\n",
              " ['Semuanya', 'beroda', 'dua'],\n",
              " ['Indonesia', 'kaya', 'budaya'],\n",
              " ['Sepatutnya', 'kita', 'menjaganyaAda', 'pisang', 'ada', 'semangka'],\n",
              " ['Jika', 'dimakan', 'manis', 'rasanya'],\n",
              " ['Indonesia', 'ragam', 'budaya'],\n",
              " ['Tugas', 'kita', 'tuk', 'menjaganyaAda', 'rusa', 'ada', 'buaya'],\n",
              " ['Sungguh', 'hitam', 'warna', 'matanya'],\n",
              " ['Ada', 'adat', 'seribu', 'bahasa'],\n",
              " ['Kita', 'wajib', 'menghormatinyaAlat', 'timbang', 'pucuknya', 'patah']]"
            ]
          },
          "metadata": {},
          "execution_count": 45
        }
      ]
    },
    {
      "cell_type": "code",
      "source": [
        "from gensim.models import Word2Vec\n",
        "from sklearn.manifold import TSNE\n",
        "import matplotlib.pyplot as plt\n",
        "import numpy as np"
      ],
      "metadata": {
        "id": "TdOujcGq02QO"
      },
      "execution_count": 23,
      "outputs": []
    },
    {
      "cell_type": "code",
      "source": [
        "model_w2v = Word2Vec(sentences=tokenized_text, vector_size=10, window=5, min_count=1, workers=4)"
      ],
      "metadata": {
        "id": "piSPO8sU33eh"
      },
      "execution_count": 81,
      "outputs": []
    },
    {
      "cell_type": "markdown",
      "source": [
        "Vector Size = 10, yang berarti jumlah dimensi vektor yang tercipta adalah 10,\n",
        "window = 5 berarti kata yang sebelum dan sesudah kata target dipilih adalah 5 kata,\n",
        "min_count = 1 berarti menghitung kemunculan angka jika pernah dalam 1 window yang sama\n",
        "\n",
        "\n"
      ],
      "metadata": {
        "id": "PV_J0i0X5mhy"
      }
    },
    {
      "cell_type": "code",
      "source": [
        "model_w2v"
      ],
      "metadata": {
        "colab": {
          "base_uri": "https://localhost:8080/"
        },
        "id": "QGsk60Wn1Akd",
        "outputId": "e9543d72-090c-4cf2-833b-42cf6ef091cd"
      },
      "execution_count": 82,
      "outputs": [
        {
          "output_type": "execute_result",
          "data": {
            "text/plain": [
              "<gensim.models.word2vec.Word2Vec at 0x79e341bb3fd0>"
            ]
          },
          "metadata": {},
          "execution_count": 82
        }
      ]
    },
    {
      "cell_type": "code",
      "source": [
        "words = list(model_w2v.wv.index_to_key)\n",
        "vector_W2V = [model_w2v.wv[word] for word in words]\n",
        "vector_W2V = np.array(vector_W2V)\n"
      ],
      "metadata": {
        "colab": {
          "base_uri": "https://localhost:8080/",
          "height": 35
        },
        "id": "KCBPz6CO2YcR",
        "outputId": "e20e1f5a-1856-49d5-8447-29a0ce50173d"
      },
      "execution_count": 83,
      "outputs": [
        {
          "output_type": "execute_result",
          "data": {
            "text/plain": [
              "'\\nindex_to_key buat menampilkan daftar kata yang ada pada sebuah model\\nlakukan komperhensi untuk mengubah kata menjadi vektor dengan model_W2V\\nubah menjadi numpy array\\n'"
            ],
            "application/vnd.google.colaboratory.intrinsic+json": {
              "type": "string"
            }
          },
          "metadata": {},
          "execution_count": 83
        }
      ]
    },
    {
      "cell_type": "code",
      "source": [
        "tsne = TSNE(n_components=2, perplexity=min(5, len(vector_W2V)-1), random_state=42)\n",
        "vectors_tsne = tsne.fit_transform(vector_W2V)"
      ],
      "metadata": {
        "id": "kIifIFg91ueu"
      },
      "execution_count": 84,
      "outputs": []
    },
    {
      "cell_type": "code",
      "source": [
        "words"
      ],
      "metadata": {
        "colab": {
          "base_uri": "https://localhost:8080/"
        },
        "id": "m2_kYzC62BuP",
        "outputId": "ff92070c-ec08-4d12-d53d-3ef0e1b43967"
      },
      "execution_count": 85,
      "outputs": [
        {
          "output_type": "execute_result",
          "data": {
            "text/plain": [
              "['ada',\n",
              " 'Ada',\n",
              " 'budaya',\n",
              " 'menjaganyaAda',\n",
              " 'kita',\n",
              " 'Indonesia',\n",
              " 'Jika',\n",
              " 'semangka',\n",
              " 'pisang',\n",
              " 'Sepatutnya',\n",
              " 'kaya',\n",
              " 'manis',\n",
              " 'dua',\n",
              " 'beroda',\n",
              " 'Semuanya',\n",
              " 'sepeda',\n",
              " 'motor',\n",
              " 'dimakan',\n",
              " 'patah',\n",
              " 'pucuknya',\n",
              " 'ragam',\n",
              " 'timbang',\n",
              " 'menghormatinyaAlat',\n",
              " 'wajib',\n",
              " 'Kita',\n",
              " 'bahasa',\n",
              " 'seribu',\n",
              " 'adat',\n",
              " 'matanya',\n",
              " 'warna',\n",
              " 'hitam',\n",
              " 'Sungguh',\n",
              " 'buaya',\n",
              " 'rusa',\n",
              " 'tuk',\n",
              " 'Tugas',\n",
              " 'rasanya']"
            ]
          },
          "metadata": {},
          "execution_count": 85
        }
      ]
    },
    {
      "cell_type": "code",
      "source": [
        "tsne = TSNE(n_components=2, perplexity=min(5, len(vector_W2V)-1), random_state=42)\n",
        "vectors_tsne = tsne.fit_transform(vector_W2V)"
      ],
      "metadata": {
        "id": "7ghO08qm4Dtd"
      },
      "execution_count": 86,
      "outputs": []
    },
    {
      "cell_type": "code",
      "source": [
        "plt.scatter(vectors_tsne[:, 0], vectors_tsne[:, 1])\n",
        "for i, word in enumerate(words):\n",
        "    plt.annotate(word, xy=(vectors_tsne[i, 0], vectors_tsne[i, 1]), xytext=(5, 2), textcoords='offset points', ha='right')\n",
        "\n",
        "plt.show()"
      ],
      "metadata": {
        "colab": {
          "base_uri": "https://localhost:8080/",
          "height": 430
        },
        "outputId": "b717f9ce-31b6-4f53-aae3-a4fdaf7dc71a",
        "id": "clf9L6T04Dtj"
      },
      "execution_count": 87,
      "outputs": [
        {
          "output_type": "display_data",
          "data": {
            "text/plain": [
              "<Figure size 640x480 with 1 Axes>"
            ],
            "image/png": "[encoded data removed]"
          },
          "metadata": {}
        }
      ]
    },
    {
      "cell_type": "markdown",
      "source": [
        "### Gensim Fasttext"
      ],
      "metadata": {
        "id": "bTaWysi34K2M"
      }
    },
    {
      "cell_type": "code",
      "source": [
        "from gensim.models import FastText\n",
        "\n",
        "model_fasttext = FastText(sentences=tokenized_text, vector_size=10, window=5, min_count=1, workers=4)"
      ],
      "metadata": {
        "id": "MVbogGA64Rzs"
      },
      "execution_count": 88,
      "outputs": []
    },
    {
      "cell_type": "markdown",
      "source": [
        "Vector Size = 10, yang berarti jumlah dimensi vektor yang tercipta adalah 10,\n",
        "window = 5 berarti kata yang sebelum dan sesudah kata target dipilih adalah 5 kata,\n",
        "min_count = 1 berarti menghitung kemunculan angka jika pernah dalam 1 window yang sama\n",
        "\n",
        "\n"
      ],
      "metadata": {
        "id": "_gdiZPqm5Thi"
      }
    },
    {
      "cell_type": "code",
      "source": [
        "words = list(model_fasttext.wv.index_to_key)\n",
        "vector_fasttext = [model_fasttext.wv[word] for word in words]\n",
        "vector_fasttext = np.array(vector_fasttext)"
      ],
      "metadata": {
        "id": "Lz-A-Ty94Rzt"
      },
      "execution_count": 89,
      "outputs": []
    },
    {
      "cell_type": "code",
      "source": [
        "words"
      ],
      "metadata": {
        "colab": {
          "base_uri": "https://localhost:8080/"
        },
        "outputId": "b28d3053-da80-4971-fe75-b61c54665501",
        "id": "uydphmL74Rzt"
      },
      "execution_count": 90,
      "outputs": [
        {
          "output_type": "execute_result",
          "data": {
            "text/plain": [
              "['ada',\n",
              " 'Ada',\n",
              " 'budaya',\n",
              " 'menjaganyaAda',\n",
              " 'kita',\n",
              " 'Indonesia',\n",
              " 'Jika',\n",
              " 'semangka',\n",
              " 'pisang',\n",
              " 'Sepatutnya',\n",
              " 'kaya',\n",
              " 'manis',\n",
              " 'dua',\n",
              " 'beroda',\n",
              " 'Semuanya',\n",
              " 'sepeda',\n",
              " 'motor',\n",
              " 'dimakan',\n",
              " 'patah',\n",
              " 'pucuknya',\n",
              " 'ragam',\n",
              " 'timbang',\n",
              " 'menghormatinyaAlat',\n",
              " 'wajib',\n",
              " 'Kita',\n",
              " 'bahasa',\n",
              " 'seribu',\n",
              " 'adat',\n",
              " 'matanya',\n",
              " 'warna',\n",
              " 'hitam',\n",
              " 'Sungguh',\n",
              " 'buaya',\n",
              " 'rusa',\n",
              " 'tuk',\n",
              " 'Tugas',\n",
              " 'rasanya']"
            ]
          },
          "metadata": {},
          "execution_count": 90
        }
      ]
    },
    {
      "cell_type": "code",
      "source": [
        "vector_fasttext"
      ],
      "metadata": {
        "colab": {
          "base_uri": "https://localhost:8080/"
        },
        "outputId": "649c8c0f-c6cc-4b23-e7d0-e0dc1aa6b5f2",
        "id": "GBJMPeiW4Rzt"
      },
      "execution_count": 91,
      "outputs": [
        {
          "output_type": "execute_result",
          "data": {
            "text/plain": [
              "array([[-1.25113665e-03, -8.09163903e-04,  1.75516326e-02,\n",
              "         1.31290602e-02,  3.47573683e-03, -1.26387766e-02,\n",
              "         2.04694271e-02,  1.21637539e-03, -3.49255987e-02,\n",
              "         2.57294290e-02],\n",
              "       [ 1.48618435e-02, -2.40702927e-03,  7.52956094e-03,\n",
              "         2.57575810e-02,  2.39870325e-03,  1.72808636e-02,\n",
              "         1.98359992e-02,  8.95017851e-03, -1.20136049e-02,\n",
              "        -7.72224413e-03],\n",
              "       [-8.22256377e-04,  9.93958022e-03,  2.63124947e-02,\n",
              "        -1.07634102e-03, -5.74612571e-03, -9.14274075e-04,\n",
              "         2.10393090e-02,  1.52405407e-02, -2.65046395e-02,\n",
              "        -4.04378865e-03],\n",
              "       [-1.09174950e-02,  7.69271096e-03,  2.97038537e-03,\n",
              "         1.52244112e-02,  9.40200221e-03, -4.22893651e-03,\n",
              "        -3.27407615e-03, -3.81246064e-04, -3.15309200e-03,\n",
              "         8.83153267e-03],\n",
              "       [ 9.56547819e-03,  1.06474468e-02, -1.64442509e-02,\n",
              "        -2.14710776e-02, -1.31667107e-02,  2.18622130e-03,\n",
              "         8.05088901e-04,  3.26556936e-02,  8.56247637e-03,\n",
              "         2.71646143e-03],\n",
              "       [ 3.49326129e-03,  1.23286918e-02, -4.38162033e-03,\n",
              "         6.58719381e-03, -4.72532306e-03,  1.61616094e-02,\n",
              "        -1.79558725e-03,  1.63602605e-02, -1.18681369e-03,\n",
              "         9.95372329e-03],\n",
              "       [ 4.03211778e-03, -1.08528659e-02, -1.60141867e-02,\n",
              "        -9.30025801e-03, -1.38010690e-02, -5.14535420e-03,\n",
              "        -1.69215687e-02,  1.77991632e-02,  1.61163807e-02,\n",
              "         3.87283950e-03],\n",
              "       [ 3.69653944e-03,  8.78876355e-03, -2.98325196e-02,\n",
              "        -6.03486830e-03, -2.44263829e-05, -1.66414566e-02,\n",
              "         7.81284703e-04,  1.47665795e-02, -7.44142744e-04,\n",
              "        -1.07585704e-02],\n",
              "       [ 3.24002071e-03,  8.78071506e-03, -6.21060655e-03,\n",
              "         2.92813871e-02, -9.07777529e-03,  3.52265127e-03,\n",
              "        -1.13805458e-02,  2.78433715e-03,  1.98864639e-02,\n",
              "         5.91545925e-03],\n",
              "       [-4.49058972e-03, -3.25808465e-03, -3.88778583e-03,\n",
              "         2.72000674e-03,  7.49632483e-03,  9.68157593e-03,\n",
              "        -1.95903431e-05, -1.28001226e-02,  1.11779468e-02,\n",
              "         1.60584915e-02],\n",
              "       [-9.50592291e-03,  1.62764695e-02,  1.31005878e-02,\n",
              "         1.23470910e-02, -1.73002314e-02, -1.09297242e-02,\n",
              "         1.62182271e-03,  1.75409894e-02, -3.18265483e-02,\n",
              "        -2.00219220e-03],\n",
              "       [ 3.76114243e-04,  1.25257717e-02, -3.50066274e-02,\n",
              "        -4.90217889e-03, -2.76620556e-02,  8.54299311e-03,\n",
              "         1.11321742e-02,  3.90928332e-03,  1.03704678e-02,\n",
              "        -2.29065940e-02],\n",
              "       [ 4.98481328e-03, -3.13614905e-02,  4.82083485e-02,\n",
              "        -1.59553085e-02,  1.32966926e-02,  8.34394619e-03,\n",
              "        -3.94655354e-02, -4.07275977e-03,  9.84537136e-03,\n",
              "        -4.95939702e-03],\n",
              "       [ 1.29381716e-02,  1.07926792e-02,  5.22777950e-03,\n",
              "         1.82438232e-02,  1.11746211e-02, -1.29754900e-03,\n",
              "         2.03358177e-02, -5.61056845e-03,  2.43983772e-02,\n",
              "         4.82169120e-03],\n",
              "       [-5.61148534e-03,  5.53717930e-03, -2.88886819e-02,\n",
              "        -3.56929586e-03,  1.01888431e-02,  2.31418777e-02,\n",
              "         2.30681058e-03,  1.40880859e-02, -1.72564164e-02,\n",
              "        -8.98727309e-03],\n",
              "       [ 3.41984385e-04,  6.87668333e-03,  5.99887036e-03,\n",
              "         1.85879835e-04,  2.81921849e-02,  2.73036640e-02,\n",
              "        -1.49489027e-02, -2.32211314e-03, -2.62589450e-03,\n",
              "        -2.17543487e-02],\n",
              "       [ 9.02393193e-04,  7.91450776e-03, -8.80122170e-05,\n",
              "        -7.90704228e-03, -9.00337100e-03,  1.48238719e-03,\n",
              "        -1.17229959e-02, -2.11363249e-02, -1.36270728e-02,\n",
              "         2.44562235e-02],\n",
              "       [-1.11429980e-02,  1.19633880e-02,  2.66193086e-03,\n",
              "         8.52034986e-03, -2.15456188e-02, -5.40271262e-03,\n",
              "         8.43463838e-03,  9.55146644e-03, -1.02997474e-04,\n",
              "         4.60577244e-03],\n",
              "       [-2.98542040e-03, -1.44970249e-02,  3.63697968e-02,\n",
              "        -3.23853940e-02, -6.28803950e-03,  8.00817739e-03,\n",
              "        -2.13621762e-02,  5.11264522e-03,  3.89692262e-02,\n",
              "         1.74162220e-02],\n",
              "       [ 1.03558311e-02, -1.34925060e-02, -3.56992095e-04,\n",
              "         1.26246046e-02,  2.26175482e-03,  6.83069229e-05,\n",
              "        -4.05886397e-03,  1.13191428e-02, -5.38536254e-03,\n",
              "        -1.32668577e-02],\n",
              "       [ 1.42360488e-02,  8.57265480e-03,  1.87631845e-02,\n",
              "        -1.74919143e-02, -1.98790953e-02,  1.24506298e-02,\n",
              "         1.39407511e-03,  1.48821017e-02, -1.55165447e-02,\n",
              "         2.06305794e-02],\n",
              "       [ 5.28624980e-03,  1.36254299e-02,  6.87308004e-03,\n",
              "        -1.68968085e-03,  1.12079773e-02, -3.02548124e-03,\n",
              "         3.49997990e-02, -4.56453394e-03,  7.37116765e-03,\n",
              "        -1.70274843e-02],\n",
              "       [-5.88513538e-03,  1.10818762e-02, -1.36447381e-02,\n",
              "        -1.88284717e-03, -7.03947060e-03,  1.63788069e-03,\n",
              "        -1.50822010e-02, -6.01579435e-03, -8.29538796e-03,\n",
              "        -1.18995644e-02],\n",
              "       [-1.20533556e-02, -2.00309232e-02,  1.06614335e-02,\n",
              "        -3.85599234e-03, -9.20056645e-03, -1.93906855e-02,\n",
              "        -3.75129585e-03,  1.03374319e-02, -2.43183337e-02,\n",
              "         9.84442793e-03],\n",
              "       [ 1.84623133e-02, -1.72869768e-02, -2.87325215e-02,\n",
              "         5.25578391e-03, -9.13506560e-03,  3.35717946e-03,\n",
              "         1.73928682e-02,  9.61204246e-03, -1.26932384e-02,\n",
              "        -1.71245709e-02],\n",
              "       [ 1.56393845e-03, -9.75805707e-03,  1.16993561e-02,\n",
              "        -2.19308380e-02,  3.22214002e-03, -6.15113555e-03,\n",
              "         1.36662284e-02,  3.61557934e-03, -1.38277130e-03,\n",
              "        -9.86804441e-03],\n",
              "       [ 1.16895121e-02, -8.58356617e-03,  1.29016489e-02,\n",
              "         1.36875743e-02,  3.44097801e-03,  6.53153192e-03,\n",
              "         5.41074853e-03,  3.85731924e-03, -3.49987261e-02,\n",
              "         9.88968462e-03],\n",
              "       [ 1.93132786e-03, -7.87625962e-04, -1.35385757e-03,\n",
              "         2.05406547e-02,  1.67574659e-02,  3.93114351e-02,\n",
              "         2.17561051e-02,  7.50822388e-03, -1.66116226e-02,\n",
              "         4.06403281e-02],\n",
              "       [ 9.51803941e-03,  1.12752346e-02,  4.36230330e-03,\n",
              "        -4.61783307e-03, -3.90713708e-03,  6.03654468e-03,\n",
              "        -2.80023692e-03, -2.68369238e-03, -3.11724935e-03,\n",
              "         6.97846664e-03],\n",
              "       [ 2.55088639e-02, -3.93934269e-03,  1.86985172e-02,\n",
              "         4.25742328e-04,  9.97562055e-03,  1.21914847e-04,\n",
              "        -1.07252626e-02,  1.75399857e-03, -5.89621533e-03,\n",
              "        -3.39576080e-02],\n",
              "       [-7.92319048e-03, -1.32868877e-02,  2.20983033e-03,\n",
              "         9.08263959e-03, -1.32254958e-02, -1.79737173e-02,\n",
              "         1.85959768e-02, -9.07976273e-03,  1.96422767e-02,\n",
              "        -2.59221606e-02],\n",
              "       [ 1.72145497e-02,  1.02796648e-02,  1.10267131e-02,\n",
              "        -2.03832164e-02,  1.90154295e-02, -4.14850842e-03,\n",
              "         3.74809396e-03,  7.47180264e-03,  4.84385731e-04,\n",
              "        -9.99370310e-03],\n",
              "       [ 2.18979851e-03,  2.25598887e-02,  2.79758833e-02,\n",
              "         1.78549513e-02, -2.38263663e-02, -9.79087129e-03,\n",
              "         7.39875436e-03,  1.17094861e-02,  9.43007227e-03,\n",
              "        -2.35839467e-03],\n",
              "       [ 5.39753912e-03,  7.57646805e-04,  1.15841962e-02,\n",
              "         3.85397812e-03,  3.40118073e-02,  1.20816370e-02,\n",
              "        -2.87718722e-03, -1.64645240e-02,  8.23854748e-03,\n",
              "        -7.08077801e-03],\n",
              "       [ 2.58237291e-02,  2.23857742e-02,  3.47553607e-04,\n",
              "        -1.33251899e-03, -1.27763823e-02,  4.60770540e-02,\n",
              "        -1.83284301e-02, -1.20509882e-02, -1.51078934e-02,\n",
              "         6.43160287e-03],\n",
              "       [-4.64767357e-03,  1.07335467e-02,  1.81359518e-02,\n",
              "        -1.48293171e-02,  2.23765528e-04, -6.32374221e-03,\n",
              "        -8.22894275e-03,  1.04549530e-04,  1.97026953e-02,\n",
              "        -3.80389281e-02],\n",
              "       [-1.32671222e-02,  2.61295252e-02,  8.74356367e-03,\n",
              "        -1.22878971e-02,  2.97816913e-03,  3.09000234e-03,\n",
              "         2.38043685e-02, -4.03687218e-03, -2.57601985e-03,\n",
              "        -7.14053679e-03]], dtype=float32)"
            ]
          },
          "metadata": {},
          "execution_count": 91
        }
      ]
    },
    {
      "cell_type": "code",
      "source": [
        "tsne = TSNE(n_components=2, perplexity=min(5, len(vector_fasttext)-1), random_state=42)\n",
        "vectors_tsne = tsne.fit_transform(vector_fasttext)"
      ],
      "metadata": {
        "id": "yVROCzHA4Rzt"
      },
      "execution_count": 92,
      "outputs": []
    },
    {
      "cell_type": "code",
      "source": [
        "plt.scatter(vectors_tsne[:, 0], vectors_tsne[:, 1])\n",
        "for i, word in enumerate(words):\n",
        "    plt.annotate(word, xy=(vectors_tsne[i, 0], vectors_tsne[i, 1]), xytext=(5, 2), textcoords='offset points', ha='right')\n",
        "\n",
        "plt.show()"
      ],
      "metadata": {
        "colab": {
          "base_uri": "https://localhost:8080/",
          "height": 430
        },
        "outputId": "439a363e-13b4-4306-fe87-3bc7f5104ceb",
        "id": "4-Q31v344Rzt"
      },
      "execution_count": 93,
      "outputs": [
        {
          "output_type": "display_data",
          "data": {
            "text/plain": [
              "<Figure size 640x480 with 1 Axes>"
            ],
            "image/png": "[encoded data removed]"
          },
          "metadata": {}
        }
      ]
    },
    {
      "cell_type": "markdown",
      "source": [
        "### Perbandingan hasil Word2Vec dan Fasttext"
      ],
      "metadata": {
        "id": "TaFvIwJ44Rzu"
      }
    },
    {
      "cell_type": "code",
      "source": [
        "# representasi kata makan\n",
        "word_w2v = model_w2v.wv['Indonesia']\n",
        "word_fasttext = model_fasttext.wv['Indonesia']\n",
        "\n",
        "print(\"Word2Vec:\", word_w2v)\n",
        "print(\"FastText:\", word_fasttext)"
      ],
      "metadata": {
        "colab": {
          "base_uri": "https://localhost:8080/"
        },
        "outputId": "97f135e3-4c56-42dd-9e09-8fa4d0279131",
        "id": "C5xdVInj4Rzu"
      },
      "execution_count": 94,
      "outputs": [
        {
          "output_type": "stream",
          "name": "stdout",
          "text": [
            "Word2Vec: [-0.08157917  0.04495798 -0.04137076  0.00824536  0.08498619 -0.04462177\n",
            "  0.045175   -0.0678696  -0.03548489  0.09398508]\n",
            "FastText: [ 0.00349326  0.01232869 -0.00438162  0.00658719 -0.00472532  0.01616161\n",
            " -0.00179559  0.01636026 -0.00118681  0.00995372]\n"
          ]
        }
      ]
    },
    {
      "cell_type": "markdown",
      "source": [
        "### Mencari kata yang similar"
      ],
      "metadata": {
        "id": "fn0zPz_I4Rzu"
      }
    },
    {
      "cell_type": "code",
      "source": [
        "# Gunakan model Word2Vec atau FastText yang telah dilatih\n",
        "similar_words_w2v = model_w2v.wv.most_similar('Indonesia', topn=4)\n",
        "similar_words_fasttext = model_fasttext.wv.most_similar('Indonesia', topn=4)\n",
        "\n",
        "print(f\"Word2Vec - Kata serupa dengan 'Indonesia':{similar_words_w2v}\")\n",
        "print(f\"FastText - Kata serupa dengan 'Indonesia':{similar_words_fasttext}\")"
      ],
      "metadata": {
        "colab": {
          "base_uri": "https://localhost:8080/"
        },
        "outputId": "cd06ca8e-9dfc-456c-d6d1-39bb74d57acc",
        "id": "O3T9nGrX4Rzu"
      },
      "execution_count": 95,
      "outputs": [
        {
          "output_type": "stream",
          "name": "stdout",
          "text": [
            "Word2Vec - Kata serupa dengan 'Indonesia':[('motor', 0.5916882157325745), ('menghormatinyaAlat', 0.5115841627120972), ('rusa', 0.5002487897872925), ('Kita', 0.46192681789398193)]\n",
            "FastText - Kata serupa dengan 'Indonesia':[('adat', 0.5899585485458374), ('tuk', 0.5600650906562805), ('kita', 0.5257759690284729), ('ragam', 0.4961792230606079)]\n"
          ]
        }
      ]
    },
    {
      "cell_type": "markdown",
      "source": [
        "Interpretasi\n",
        "Dari 2 model tersebut, pencarian 4 kata terbaik relatif jatuh kepada FastText.\n",
        "Dari kata 'Indonesia yang diuji kata nya cukup mirip dan dekat dengan 'adat', 'ragam' yang cocok dengan konteks 'Indonesia'."
      ],
      "metadata": {
        "id": "YFOhlzT1453z"
      }
    }
  ]
}